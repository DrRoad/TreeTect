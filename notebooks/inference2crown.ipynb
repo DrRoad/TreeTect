{
 "cells": [
  {
   "cell_type": "code",
   "execution_count": 1,
   "metadata": {},
   "outputs": [],
   "source": [
    "from tqdm.notebook import tqdm as tqdm\n",
    "import matplotlib.pyplot as plt\n",
    "from pprint import pprint\n",
    "\n",
    "\n",
    "import numpy as np\n",
    "import pandas as pd\n",
    "import rasterio\n",
    "import glob\n",
    "import os\n",
    "import time\n",
    "\n",
    "import math\n",
    "import random\n",
    "\n",
    "from scipy.ndimage.filters import gaussian_filter\n",
    "from rasterio import features\n"
   ]
  },
  {
   "cell_type": "code",
   "execution_count": 2,
   "metadata": {},
   "outputs": [],
   "source": [
    "data_type = 'NAIP2018'\n",
    "annotation_type = 'Hand'\n",
    "area = 'Nubian_square'\n",
    "notes = 'Robin'\n",
    "\n",
    "site_name = '{0}_{1}_{2}_{3}'.format(data_type, annotation_type, area, notes)\n",
    "\n",
    "image_type = \".tif\"\n",
    "\n",
    "score_threshold = 0.3"
   ]
  },
  {
   "cell_type": "code",
   "execution_count": 9,
   "metadata": {},
   "outputs": [
    {
     "name": "stdout",
     "output_type": "stream",
     "text": [
      "working directory: /home/chris/Documents/GreenCityWatch/TreeTect_legacy/scripts/3_Precision_calculation\n",
      "-------------------------------------------\n",
      "'Number of images: 1'\n",
      "-------------------------------------------\n",
      "['../../../data/NAIP2018_Hand_Nubian_square_Robin/tif/m_4207148_nw_19_060_20181016_CLIP4.tif']\n",
      "-------------------------------------------\n",
      "reference_data:\n",
      " ../../../data/NAIP2018_Hand_Nubian_square_Robin/training_data/*.csv\n",
      "-------------------------------------------\n",
      "raster_data:\n",
      " ../../../data/NAIP2018_Hand_Nubian_square_Robin/tif/m_4207148_nw_19_060_20181016_CLIP4.tif\n",
      "-------------------------------------------\n",
      "predictions_data:\n",
      " ../../../data/NAIP2018_Hand_Nubian_square_Robin/predictions/m_4207148_nw_19_060_20181016_CLIP4_raster_prediction.csv\n"
     ]
    }
   ],
   "source": [
    "# current working directory\n",
    "cwd = os.getcwd()\n",
    "\n",
    "# list images in relative path\n",
    "test_data_path = '../../../data/' + site_name + '/training_data/*' + image_type\n",
    "image_path_list = glob.glob(test_data_path)\n",
    "\n",
    "# reference bboxes\n",
    "annotations_path = '../../../data/' + site_name + '/training_data/*.csv'\n",
    "annotations_path_list = glob.glob(annotations_path)\n",
    "\n",
    "# list images in relative path\n",
    "test_data_path = '../../../data/' + site_name + '/tif/*CLIP4' + image_type\n",
    "image_path_list = glob.glob(test_data_path)\n",
    "raster_path = image_path_list[0]\n",
    "\n",
    "# find inference results (predictions)\n",
    "prediction_data_path = '../../../data/' + site_name + '/predictions/'\n",
    "path_df_predicted_bboxes = prediction_data_path + raster_path.split('/')[-1].split('.')[0] + '_raster_prediction.csv'\n",
    "\n",
    "\n",
    "print('working directory:', cwd)\n",
    "print('-------------------------------------------')\n",
    "pprint('Number of images: '+ str(len(image_path_list)))\n",
    "print('-------------------------------------------')\n",
    "pprint(image_path_list[0:5])\n",
    "print('-------------------------------------------')\n",
    "print('reference_data:\\n', annotations_path)\n",
    "print('-------------------------------------------')\n",
    "print('raster_data:\\n', raster_path)\n",
    "print('-------------------------------------------')\n",
    "print('predictions_data:\\n', path_df_predicted_bboxes)"
   ]
  },
  {
   "cell_type": "code",
   "execution_count": 10,
   "metadata": {},
   "outputs": [],
   "source": [
    "## read data into variables\n",
    "df_lidr_bbox = pd.DataFrame()\n",
    "\n",
    "df_lidar_bbox_temp = []\n",
    "\n",
    "for annotations_path in annotations_path_list:\n",
    "    df_lidar_bbox_temp = pd.read_csv(annotations_path, header = None)\n",
    "    df_lidr_bbox = df_lidr_bbox.append(df_lidar_bbox_temp)\n",
    "    \n",
    "df_lidr_bbox.columns = ['image_path', 'xmin', 'ymin', 'xmax', 'ymax', 'label']   \n",
    "\n",
    "\n",
    "predicted_raster = pd.read_csv(path_df_predicted_bboxes, sep='\\t', index_col = 0)"
   ]
  },
  {
   "cell_type": "code",
   "execution_count": 11,
   "metadata": {},
   "outputs": [
    {
     "data": {
      "text/html": [
       "<div>\n",
       "<style scoped>\n",
       "    .dataframe tbody tr th:only-of-type {\n",
       "        vertical-align: middle;\n",
       "    }\n",
       "\n",
       "    .dataframe tbody tr th {\n",
       "        vertical-align: top;\n",
       "    }\n",
       "\n",
       "    .dataframe thead th {\n",
       "        text-align: right;\n",
       "    }\n",
       "</style>\n",
       "<table border=\"1\" class=\"dataframe\">\n",
       "  <thead>\n",
       "    <tr style=\"text-align: right;\">\n",
       "      <th></th>\n",
       "      <th>xmin</th>\n",
       "      <th>ymin</th>\n",
       "      <th>xmax</th>\n",
       "      <th>ymax</th>\n",
       "      <th>score</th>\n",
       "      <th>label</th>\n",
       "      <th>image</th>\n",
       "    </tr>\n",
       "  </thead>\n",
       "  <tbody>\n",
       "    <tr>\n",
       "      <th>0</th>\n",
       "      <td>674</td>\n",
       "      <td>3787</td>\n",
       "      <td>695</td>\n",
       "      <td>3808</td>\n",
       "      <td>0.766388</td>\n",
       "      <td>Tree</td>\n",
       "      <td>m_4207148_nw_19_060_20181016_CLIP4.tif</td>\n",
       "    </tr>\n",
       "    <tr>\n",
       "      <th>1</th>\n",
       "      <td>728</td>\n",
       "      <td>3081</td>\n",
       "      <td>756</td>\n",
       "      <td>3106</td>\n",
       "      <td>0.725837</td>\n",
       "      <td>Tree</td>\n",
       "      <td>m_4207148_nw_19_060_20181016_CLIP4.tif</td>\n",
       "    </tr>\n",
       "    <tr>\n",
       "      <th>2</th>\n",
       "      <td>951</td>\n",
       "      <td>3278</td>\n",
       "      <td>980</td>\n",
       "      <td>3305</td>\n",
       "      <td>0.723165</td>\n",
       "      <td>Tree</td>\n",
       "      <td>m_4207148_nw_19_060_20181016_CLIP4.tif</td>\n",
       "    </tr>\n",
       "    <tr>\n",
       "      <th>3</th>\n",
       "      <td>377</td>\n",
       "      <td>2167</td>\n",
       "      <td>397</td>\n",
       "      <td>2192</td>\n",
       "      <td>0.720948</td>\n",
       "      <td>Tree</td>\n",
       "      <td>m_4207148_nw_19_060_20181016_CLIP4.tif</td>\n",
       "    </tr>\n",
       "    <tr>\n",
       "      <th>4</th>\n",
       "      <td>70</td>\n",
       "      <td>2473</td>\n",
       "      <td>101</td>\n",
       "      <td>2497</td>\n",
       "      <td>0.718774</td>\n",
       "      <td>Tree</td>\n",
       "      <td>m_4207148_nw_19_060_20181016_CLIP4.tif</td>\n",
       "    </tr>\n",
       "  </tbody>\n",
       "</table>\n",
       "</div>"
      ],
      "text/plain": [
       "   xmin  ymin  xmax  ymax     score label  \\\n",
       "0   674  3787   695  3808  0.766388  Tree   \n",
       "1   728  3081   756  3106  0.725837  Tree   \n",
       "2   951  3278   980  3305  0.723165  Tree   \n",
       "3   377  2167   397  2192  0.720948  Tree   \n",
       "4    70  2473   101  2497  0.718774  Tree   \n",
       "\n",
       "                                    image  \n",
       "0  m_4207148_nw_19_060_20181016_CLIP4.tif  \n",
       "1  m_4207148_nw_19_060_20181016_CLIP4.tif  \n",
       "2  m_4207148_nw_19_060_20181016_CLIP4.tif  \n",
       "3  m_4207148_nw_19_060_20181016_CLIP4.tif  \n",
       "4  m_4207148_nw_19_060_20181016_CLIP4.tif  "
      ]
     },
     "execution_count": 11,
     "metadata": {},
     "output_type": "execute_result"
    }
   ],
   "source": [
    "predicted_raster.head()"
   ]
  },
  {
   "cell_type": "code",
   "execution_count": 12,
   "metadata": {},
   "outputs": [],
   "source": [
    "# read raster info \n",
    "dataset = rasterio.open(raster_path)\n",
    "\n",
    "crs = dataset.read_crs()\n",
    "image_array = dataset.read()\n",
    "\n",
    "# get raster size in meters\n",
    "raster_size_x = dataset.bounds.right - dataset.bounds.left\n",
    "raster_size_y = dataset.bounds.top - dataset.bounds.bottom\n",
    "\n",
    "# get raster resolution in meters\n",
    "y_res = abs(dataset.read_transform()[1])\n",
    "x_res = abs(dataset.read_transform()[5])"
   ]
  },
  {
   "cell_type": "code",
   "execution_count": 13,
   "metadata": {},
   "outputs": [],
   "source": [
    "# loading model results\n",
    "score_threshold = 0.2\n",
    "\n",
    "run_all = False\n",
    "sample_size = 10\n",
    "\n",
    "use_metric_system = False"
   ]
  },
  {
   "cell_type": "code",
   "execution_count": 14,
   "metadata": {
    "scrolled": false
   },
   "outputs": [
    {
     "name": "stdout",
     "output_type": "stream",
     "text": [
      "running sample of trees\n"
     ]
    },
    {
     "data": {
      "application/vnd.jupyter.widget-view+json": {
       "model_id": "c40c4781ae9646b4b2eba45cd48f5a41",
       "version_major": 2,
       "version_minor": 0
      },
      "text/plain": [
       "HBox(children=(FloatProgress(value=0.0, max=10.0), HTML(value='')))"
      ]
     },
     "metadata": {},
     "output_type": "display_data"
    },
    {
     "data": {
      "image/png": "[encoded data removed]",
      "text/plain": [
       "<Figure size 720x720 with 3 Axes>"
      ]
     },
     "metadata": {
      "needs_background": "light"
     },
     "output_type": "display_data"
    },
    {
     "data": {
      "image/png": "[encoded data removed]",
      "text/plain": [
       "<Figure size 720x720 with 3 Axes>"
      ]
     },
     "metadata": {
      "needs_background": "light"
     },
     "output_type": "display_data"
    },
    {
     "data": {
      "image/png": "[encoded data removed]",
      "text/plain": [
       "<Figure size 720x720 with 3 Axes>"
      ]
     },
     "metadata": {
      "needs_background": "light"
     },
     "output_type": "display_data"
    },
    {
     "data": {
      "image/png": "[encoded data removed]",
      "text/plain": [
       "<Figure size 720x720 with 3 Axes>"
      ]
     },
     "metadata": {
      "needs_background": "light"
     },
     "output_type": "display_data"
    },
    {
     "data": {
      "image/png": "[encoded data removed]",
      "text/plain": [
       "<Figure size 720x720 with 3 Axes>"
      ]
     },
     "metadata": {
      "needs_background": "light"
     },
     "output_type": "display_data"
    },
    {
     "data": {
      "image/png": "[encoded data removed]",
      "text/plain": [
       "<Figure size 720x720 with 3 Axes>"
      ]
     },
     "metadata": {
      "needs_background": "light"
     },
     "output_type": "display_data"
    },
    {
     "data": {
      "image/png": "[encoded data removed]",
      "text/plain": [
       "<Figure size 720x720 with 3 Axes>"
      ]
     },
     "metadata": {
      "needs_background": "light"
     },
     "output_type": "display_data"
    },
    {
     "data": {
      "image/png": "[encoded data removed]",
      "text/plain": [
       "<Figure size 720x720 with 3 Axes>"
      ]
     },
     "metadata": {
      "needs_background": "light"
     },
     "output_type": "display_data"
    },
    {
     "data": {
      "image/png": "[encoded data removed]",
      "text/plain": [
       "<Figure size 720x720 with 3 Axes>"
      ]
     },
     "metadata": {
      "needs_background": "light"
     },
     "output_type": "display_data"
    },
    {
     "data": {
      "image/png": "[encoded data removed]",
      "text/plain": [
       "<Figure size 720x720 with 3 Axes>"
      ]
     },
     "metadata": {
      "needs_background": "light"
     },
     "output_type": "display_data"
    },
    {
     "name": "stdout",
     "output_type": "stream",
     "text": [
      "\n"
     ]
    }
   ],
   "source": [
    "\n",
    "# convert values if metric or feet\n",
    "if use_metric_system:\n",
    "    m2ftconversion = 1    \n",
    "else:\n",
    "    m2ftconversion = 3.28084\n",
    "\n",
    "if run_all:\n",
    "    plot_individuals = False\n",
    "else:\n",
    "    plot_individuals = True\n",
    "\n",
    "# create data frames to save results\n",
    "# check size\n",
    "predicted_raster['ns_spread'] = 0\n",
    "predicted_raster['ew_spread'] = 0\n",
    "predicted_raster['volume'] = 0\n",
    "predicted_raster['area'] = 0\n",
    "\n",
    "# health\n",
    "predicted_raster['ndvi_avg'] = 0\n",
    "predicted_raster['evi_avg'] = 0\n",
    "predicted_raster['savi_avg'] = 0\n",
    "\n",
    "\n",
    "\n",
    "\n",
    "predicted_raster.iloc[1,:]\n",
    "\n",
    "if run_all:\n",
    "    run_nr = range(len(predicted_raster))\n",
    "else:\n",
    "    run_nr = random.sample(range(len(predicted_raster)), sample_size)\n",
    "    print('running sample of trees')\n",
    "\n",
    "\n",
    "for i in tqdm(run_nr):\n",
    "    \n",
    "    # get row\n",
    "    row = predicted_raster.loc[i,:]\n",
    "   \n",
    "    # slice array to tree\n",
    "    crown_image = image_array[:, int(row['ymin']):int(row['ymax']), int(row['xmin']):int(row['xmax'])]\n",
    "    \n",
    "    # get bands\n",
    "    RED = crown_image[0,:,:].astype(np.float32)\n",
    "    GREEN = crown_image[1,:,:].astype(np.float32)\n",
    "    BLUE = crown_image[2,:,:].astype(np.float32)\n",
    "    NIR = crown_image[3,:,:].astype(np.float32)\n",
    "    \n",
    "    ## vegetation indices    \n",
    "    # NDVI\n",
    "    ndvi = (NIR - RED) / (NIR + RED)\n",
    "    ndvi_avg = np.average(ndvi)\n",
    "    predicted_raster.loc[i,('ndvi_avg')] = ndvi_avg\n",
    "    # EVI\n",
    "    G = 2.5; L = 2.4; C = 1\n",
    "    evi = G*((NIR-RED)/(L+NIR+C*RED))\n",
    "    evi_avg = np.average(evi)\n",
    "    predicted_raster.loc[i,('evi_avg')] = evi_avg\n",
    "    # SAVI\n",
    "    L = 0.5\n",
    "    savi = ((NIR - RED) / (RED + NIR + L)) * (1+L)\n",
    "    savi_avg = np.average(savi)\n",
    "    predicted_raster.loc[i,('savi_avg')] = savi_avg\n",
    "    \n",
    "    # calculate spread of crown (no mask yet)\n",
    "    north_south_spread = ((row['ymax'] - row['ymin']) * y_res) * m2ftconversion\n",
    "    east_west_spread   = ((row['xmax'] - row['xmin']) * x_res) * m2ftconversion\n",
    "    predicted_raster.loc[i,'ns_spread'] = north_south_spread\n",
    "    predicted_raster.loc[i,'ew_spread'] = east_west_spread\n",
    "    # calculate area\n",
    "    area = north_south_spread * east_west_spread\n",
    "    predicted_raster.loc[i,'area'] = area\n",
    "    \n",
    "    # calculate volume \n",
    "    volume = 4/3 * math.pi * north_south_spread * east_west_spread * (((north_south_spread+east_west_spread)/2)/2)\n",
    "    predicted_raster.loc[i,'volume'] = volume\n",
    "    \n",
    "    # remove edge pixels\n",
    "    ndvi[0,:]  = 0\n",
    "    ndvi[-1,:] = 0\n",
    "    ndvi[:,0]  = 0\n",
    "    ndvi[:,-1] = 0\n",
    "    \n",
    "    # apply mask\n",
    "    ndvi_mask = ndvi > 0.15\n",
    "    \n",
    "    # appy gaussian\n",
    "    ndvi = gaussian_filter(ndvi, sigma=2)    \n",
    "    \n",
    "    if plot_individuals:\n",
    "        \n",
    "        plot_image = np.rot90(np.flipud(crown_image[0:3,:,:].T), k = 3)\n",
    "\n",
    "        plt.figure(figsize = (10,10))\n",
    "        # ----\n",
    "        plt.subplot(3,3,3)\n",
    "        plt.imshow(ndvi_mask, cmap = 'Greens')  \n",
    "        plt.title('ndvi mask')\n",
    "        plt.axis('off')\n",
    "        # ----\n",
    "        plt.subplot(3,3,2)\n",
    "        plt.imshow(ndvi, cmap = 'Greens') \n",
    "        plt.title('ndvi values')\n",
    "        plt.axis('off')\n",
    "        # ----\n",
    "        plt.subplot(3,3,1)\n",
    "        plt.imshow(plot_image)\n",
    "        plt.title('original image')\n",
    "        plt.axis('off')\n",
    "\n",
    "\n",
    "\n",
    "\n",
    "\n",
    "        plt.show()"
   ]
  },
  {
   "cell_type": "markdown",
   "metadata": {},
   "source": [
    "# Calculate metrics"
   ]
  },
  {
   "cell_type": "code",
   "execution_count": 55,
   "metadata": {},
   "outputs": [
    {
     "data": {
      "text/plain": [
       "Text(0.5, 1.0, 'Spread distance histogram')"
      ]
     },
     "execution_count": 55,
     "metadata": {},
     "output_type": "execute_result"
    },
    {
     "data": {
      "image/png": "[encoded data removed]",
      "text/plain": [
       "<Figure size 432x288 with 1 Axes>"
      ]
     },
     "metadata": {
      "needs_background": "light"
     },
     "output_type": "display_data"
    }
   ],
   "source": [
    "# plt.hist(predicted_raster.ew_spread, color='green')\n",
    "\n",
    "bins = np.linspace(0, 100, 20)\n",
    "plt.hist(predicted_raster.ns_spread, bins, alpha=0.5, label='north-south', color = 'blue')\n",
    "plt.hist(predicted_raster.ew_spread, bins, alpha=0.5, label='east-west', color = 'red')\n",
    "\n",
    "plt.legend()\n",
    "plt.xlabel('Average spread (ft) per tree')\n",
    "plt.ylabel('Number of trees')\n",
    "plt.title('Spread distance histogram')"
   ]
  },
  {
   "cell_type": "code",
   "execution_count": 56,
   "metadata": {},
   "outputs": [
    {
     "data": {
      "text/plain": [
       "Text(0.5, 1.0, 'NDVI average histogram')"
      ]
     },
     "execution_count": 56,
     "metadata": {},
     "output_type": "execute_result"
    },
    {
     "data": {
      "image/png": "[encoded data removed]",
      "text/plain": [
       "<Figure size 432x288 with 1 Axes>"
      ]
     },
     "metadata": {
      "needs_background": "light"
     },
     "output_type": "display_data"
    }
   ],
   "source": [
    "plt.hist(predicted_raster.ndvi_avg, color='#0ce67d')\n",
    "plt.xlabel('Average NDVI value per tree')\n",
    "plt.ylabel('Number of trees')\n",
    "plt.title('NDVI average histogram')"
   ]
  },
  {
   "cell_type": "code",
   "execution_count": 57,
   "metadata": {},
   "outputs": [],
   "source": [
    "# recalculate coordinates \n",
    "predicted_raster['xmin'] = (predicted_raster['xmin'] * x_res + (dataset.bounds.left)) \n",
    "predicted_raster['xmax'] = (predicted_raster['xmax'] * x_res + (dataset.bounds.left)) \n",
    "\n",
    "predicted_raster['ymax'] = (raster_size_y - ((predicted_raster['ymax'] * y_res))) + dataset.bounds.bottom\n",
    "predicted_raster['ymin'] = (raster_size_y - ((predicted_raster['ymin'] * y_res))) + dataset.bounds.bottom"
   ]
  },
  {
   "cell_type": "markdown",
   "metadata": {},
   "source": [
    "# write results to shapefile "
   ]
  },
  {
   "cell_type": "code",
   "execution_count": 37,
   "metadata": {},
   "outputs": [],
   "source": [
    "# write results to shapefile \n",
    "\n",
    "from shapely.geometry import mapping, Polygon, box\n",
    "import fiona\n",
    "\n",
    "prediction_data_path = '../../data/' + site_name + '/predictions/'\n",
    "path_shp_predicted_bboxes = prediction_data_path + raster_path.split('/')[-1].split('.')[0] + '_predictions.shp'\n",
    "\n",
    "# Define a polygon feature geometry with one attribute\n",
    "schema = {\n",
    "    'geometry': 'Polygon',\n",
    "    'properties': {'score': 'float' , \n",
    "                   'ns_spread' : 'float',\n",
    "                   'ew_spread' : 'float',\n",
    "                   'volume' : 'float',\n",
    "                   'ndvi_avg' : 'float',\n",
    "                   'savi_avg' : 'float',\n",
    "                   'evi_avg': 'float'},\n",
    "}\n",
    "\n",
    "# Write a new Shapefile\n",
    "with fiona.open(path_shp_predicted_bboxes,'w',  \n",
    "                crs=crs,\n",
    "                driver = 'ESRI Shapefile', \n",
    "                schema = schema) as c:\n",
    "    ## If there are multiple geometries, put the \"for\" loop here\n",
    "    for index, row in predicted_raster.iterrows():\n",
    "        ## Its x-y bounding box is a (minx, miny, maxx, maxy) tuple.\n",
    "        poly = box(row['xmin'], row['ymax'], row['xmax'], row['ymin'])\n",
    "        c.write({\n",
    "            'geometry': mapping(poly),\n",
    "            'properties': {'score': row['score'], \n",
    "                           'ns_spread' : row['ns_spread'],\n",
    "                           'ew_spread' : row['ew_spread'],\n",
    "                           'volume' : row['volume'],\n",
    "                           'ndvi_avg': row['ndvi_avg'],\n",
    "                           'savi_avg': row['savi_avg'],\n",
    "                           'evi_avg' : row['evi_avg']},\n",
    "        })"
   ]
  },
  {
   "cell_type": "code",
   "execution_count": null,
   "metadata": {},
   "outputs": [],
   "source": []
  }
 ],
 "metadata": {
  "kernelspec": {
   "display_name": "Python 3",
   "language": "python",
   "name": "python3"
  },
  "language_info": {
   "codemirror_mode": {
    "name": "ipython",
    "version": 3
   },
   "file_extension": ".py",
   "mimetype": "text/x-python",
   "name": "python",
   "nbconvert_exporter": "python",
   "pygments_lexer": "ipython3",
   "version": "3.7.6"
  }
 },
 "nbformat": 4,
 "nbformat_minor": 4
}
