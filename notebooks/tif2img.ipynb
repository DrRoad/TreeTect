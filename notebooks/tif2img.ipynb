{
 "cells": [
  {
   "cell_type": "markdown",
   "metadata": {},
   "source": [
    "## Convert all .tif files in a folder to image files (png/jpg)"
   ]
  },
  {
   "cell_type": "code",
   "execution_count": 2,
   "metadata": {},
   "outputs": [],
   "source": [
    "import glob"
   ]
  },
  {
   "cell_type": "code",
   "execution_count": null,
   "metadata": {},
   "outputs": [],
   "source": [
    "# define parameters\n",
    "output_path = '../../data/img_files_test/'\n",
    "\n",
    "\n",
    "# define paths with raster data\n",
    "rasters_file_path = '../../data/data_jim/**/*.tif'"
   ]
  },
  {
   "cell_type": "code",
   "execution_count": 7,
   "metadata": {},
   "outputs": [],
   "source": [
    "\n",
    "\n",
    "# find files in raster folder\n",
    "raster_files = glob.glob(rasters_file_path)"
   ]
  },
  {
   "cell_type": "code",
   "execution_count": 8,
   "metadata": {},
   "outputs": [
    {
     "data": {
      "text/plain": [
       "['../../data/data_jim/drive-download-20200412T192845Z-001/Amsterdam_2018-07-26_10_57_10400100407D9200_nr_024_224_modified.tif',\n",
       " '../../data/data_jim/drive-download-20200412T192845Z-001/Amsterdam_2018-07-26_10_57_10400100407D9200_nr_029_224_modified.tif',\n",
       " '../../data/data_jim/drive-download-20200412T192845Z-001/Amsterdam_2018-07-26_10_57_10400100407D9200_nr_023_224_modified.tif',\n",
       " '../../data/data_jim/drive-download-20200412T192845Z-001/Amsterdam_2018-07-26_10_57_10400100407D9200_nr_031_224_modified.tif',\n",
       " '../../data/data_jim/drive-download-20200412T192845Z-001/Amsterdam_2018-07-26_10_57_10400100407D9200_nr_021_224_modified.tif',\n",
       " '../../data/data_jim/drive-download-20200412T192845Z-001/Amsterdam_2018-07-26_10_57_10400100407D9200_nr_032_224_modified.tif',\n",
       " '../../data/data_jim/drive-download-20200412T192845Z-001/Amsterdam_2018-07-26_10_57_10400100407D9200_nr_030_224_modified.tif',\n",
       " '../../data/data_jim/drive-download-20200412T192845Z-001/Amsterdam_2018-07-26_10_57_10400100407D9200_nr_033_224_modified.tif',\n",
       " '../../data/data_jim/drive-download-20200412T192845Z-001/Amsterdam_2018-07-26_10_57_10400100407D9200_nr_022_224_modified.tif']"
      ]
     },
     "execution_count": 8,
     "metadata": {},
     "output_type": "execute_result"
    }
   ],
   "source": [
    "raster_files"
   ]
  },
  {
   "cell_type": "code",
   "execution_count": null,
   "metadata": {},
   "outputs": [],
   "source": [
    "\n",
    "\n",
    "img_plot_raw = out_img_chunk[band_list,:,:]\n",
    "img_plot = np.rot90(np.fliplr(img_plot_raw.T))"
   ]
  }
 ],
 "metadata": {
  "kernelspec": {
   "display_name": "Python 3",
   "language": "python",
   "name": "python3"
  },
  "language_info": {
   "codemirror_mode": {
    "name": "ipython",
    "version": 3
   },
   "file_extension": ".py",
   "mimetype": "text/x-python",
   "name": "python",
   "nbconvert_exporter": "python",
   "pygments_lexer": "ipython3",
   "version": "3.7.6"
  }
 },
 "nbformat": 4,
 "nbformat_minor": 4
}
